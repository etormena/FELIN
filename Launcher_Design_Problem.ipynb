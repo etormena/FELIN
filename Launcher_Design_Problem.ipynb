{
 "cells": [
  {
   "cell_type": "markdown",
   "metadata": {},
   "source": [
    "# <h1><center> <font color='red'> Two-Stage-To-Orbit design problem</font> </h1></center>"
   ]
  },
  {
   "cell_type": "markdown",
   "metadata": {},
   "source": [
    "<center> L. BREVAULT (ONERA/DTIS), M. BALESDENT (ONERA/DTIS), G. SIRE (ONERA/DTIS)</center>\n",
    "<center> loic.brevault@onera.fr, mathieu.balesdent@onera.fr, glen.sire@onera.fr </center>\n",
    "<center> Nov 2021  </center>"
   ]
  },
  {
   "cell_type": "markdown",
   "metadata": {},
   "source": [
    "## <font color='blue'> Problem description:</font>\n",
    "\n",
    "- <font color='blue'> Simulation</font> of a **Two-Stage-To-Orbit expendable launch vehicle** using four coupled disciplines:\n",
    "    - Propulsion,\n",
    "    - Aerodynamics,\n",
    "    - Structure and sizing,\n",
    "    - Trajectory.\n",
    "- <font color='blue'> Mission</font>: injection of a **5t** payload into a **700km x 700km** circular orbit (equatorial)\n",
    "- <font color='blue'> Trajectory simulation </font> in the local geographic frame, 3D, non-rotating Earth:\n",
    "<center>\n",
    "$\\dot{r} = V \\sin(\\gamma)$\n",
    "</center> \n",
    "<center>\n",
    "$\\dot{V} = -\\frac{1}{2m} \\rho S_{ref} C_X V^2 -g(r) \\sin(\\gamma) + \\frac{T}{m} \\cos(\\theta-\\gamma) +\\omega_E^2 r \\sin(\\gamma)$ \n",
    "</center>\n",
    "<center>   \n",
    "$\\dot{\\gamma} = \\left(\\frac{V}{r} - \\frac{g(r)}{V}\\right) \\cos(\\gamma) + \\frac{T}{mV} \\sin(\\theta - \\gamma)+ 2\\omega_E + \\frac{\\omega_E^2 r \\cos(\\gamma)}{V} + \\frac{L}{mV}$\n",
    "</center>    \n",
    "<center>\n",
    "$\\dot{l} = \\frac{V}{r} \\cos(\\gamma) $\n",
    "</center> \n",
    "<center>       \n",
    "$\\dot{m} = - q $\n",
    "</center>    \n",
    "where:\n",
    "$r$: altitude (m),\n",
    "$V$: norm of velocity (m/s),\n",
    "$\\gamma$: flight path angle (rad),\n",
    "$l$: longitude (rad),\n",
    "$m$: mass (kg),\n",
    "$\\theta$: pitch angle (rad),\n",
    "$S_{ref}$: surface of reference ($m^2$),\n",
    "$T$: thrust (N),\n",
    "$\\rho$: air density ($kg/m^3$),\n",
    "$C_X$: drag coefficient,\n",
    "$g(r)$: Earth gravity ($m/s^2$),\n",
    "$q$: mass flow rate ($kg/m^3$) and $\\alpha$: angle of attack (rad).\n",
    "\n",
    "<img src=\"angles_definition.png\" alt=\"Drawing\" style=\"width: 300px;\"/>\n",
    "\n",
    "- <font color='blue'> Trajectory phases and control </font>:\n",
    "    - Lift-off: $\\theta = \\pi/2$\n",
    "    - Pitch-over maneuver: $\\theta(t) = \\gamma - \\frac{\\Delta_{\\theta} * t}{\\Delta_t}$\n",
    "        - where $\\Delta_{\\theta}$ is the variation (in rad) of $\\theta$ during the maneuver and $\\Delta_t$ is the duration of the maneuver (in s)\n",
    "    - Gravity turn: return to angle of attack of zero and then $\\theta = \\gamma$ ($\\alpha = 0.$)\n",
    "    - Exo-atmospheric command for first stage: $\\theta$ is optimized by a linear interpolation control law (parameters are waypoints of $\\theta$ as a function of time, 2 parameters are used: $\\theta$ at the time at which the exo-atmospheric phase begins and $\\theta$ at the end of the first stage flight)\n",
    "    - Separation between the first and second stages\n",
    "    - Second stage flight (bi-linear tangent command): $\\tan(\\theta) = \\frac{a^\\xi \\tan(\\theta_i)+(\\tan(\\theta_f)-a^\\xi \\tan(\\theta_i))t}{a^\\xi+(1-a^\\xi)t}$\n",
    "        - where $a$ is a constant, $\\xi$ a parameter defining the shape of the bi-linear tangeant law, $\\theta_i$ and $\\theta_f$ the pitch angles at the beginning and at the end of the phase, see [F. Castellini PhD thesis](https://www.google.com/url?sa=t&rct=j&q=&esrc=s&source=web&cd=2&cad=rja&uact=8&ved=2ahUKEwiYq9yN9urhAhWaAmMBHeMHDmQQFjABegQIARAC&url=https%3A%2F%2Fwww.politesi.polimi.it%2Fbitstream%2F10589%2F56841%2F1%2F201203_PhD_Castellini.pdf&usg=AOvVaw14PiJUsq8IUSFMbhVEfBef) page 69\n",
    "    - Coast phase (balistic flight to reach the final orbit -- not simulated)\n",
    "    - Orbit circularization boost (-- not simulated)\n",
    "\n",
    "<img src=\"trajectory_phase.png\" alt=\"Drawing\" style=\"width: 600px;\"/>\n",
    "\n",
    "\n",
    "- <font color='blue'> Propulsion</font>: simplified model based on [M. Balesdent PhD thesis](https://tel.archives-ouvertes.fr/tel-00659362/document) pages 100-101\n",
    "- <font color='blue'> Structure and sizing</font>: Mass Estimating Relations (MER) based on [F. Castellini PhD thesis](https://www.google.com/url?sa=t&rct=j&q=&esrc=s&source=web&cd=2&cad=rja&uact=8&ved=2ahUKEwiYq9yN9urhAhWaAmMBHeMHDmQQFjABegQIARAC&url=https%3A%2F%2Fwww.politesi.polimi.it%2Fbitstream%2F10589%2F56841%2F1%2F201203_PhD_Castellini.pdf&usg=AOvVaw14PiJUsq8IUSFMbhVEfBef) pages 79-85\n",
    "- <font color='blue'> Aerodynamics </font>: fixed drag table $C_X(\\text{Mach},\\alpha)$ as a function of Mach and angle of attack $\\alpha$ (rad) obtained for a representative TSTO launcher geometry using low fidelity aerodynamics code (e.g. MissileDATCOM).\n",
    "\n",
    "\n",
    "- Use of [OpenMDAO](http://openmdao.org/) to connect the different disciplines as a group\n"
   ]
  },
  {
   "cell_type": "markdown",
   "metadata": {},
   "source": [
    "## <font color='blue'> Problem simulation:</font>"
   ]
  },
  {
   "cell_type": "markdown",
   "metadata": {},
   "source": [
    "Import of general python librairy "
   ]
  },
  {
   "cell_type": "code",
   "execution_count": 1,
   "metadata": {},
   "outputs": [],
   "source": [
    "import numpy as np\n",
    "import pandas as pd\n",
    "import sys\n",
    "np.set_printoptions(threshold=sys.maxsize)\n",
    "from matplotlib import pyplot as plt"
   ]
  },
  {
   "cell_type": "markdown",
   "metadata": {},
   "source": [
    "Import OpenMDAO + CMA-ES optimization algorithm\n",
    "\n",
    "-Required packages : \n",
    "    - pip install openmdao\n",
    "    - pip install cma\n",
    "    - pip install geopy\n",
    "    - pip install pandas"
   ]
  },
  {
   "cell_type": "code",
   "execution_count": 2,
   "metadata": {},
   "outputs": [],
   "source": [
    "import openmdao.api as om\n",
    "import cma"
   ]
  },
  {
   "cell_type": "markdown",
   "metadata": {},
   "source": [
    "Import of specific Python functions for launch vehicle design"
   ]
  },
  {
   "cell_type": "code",
   "execution_count": 3,
   "metadata": {},
   "outputs": [],
   "source": [
    "import Launch_vehicle_Group\n",
    "import post_traitement\n",
    "import result_vizualization\n",
    "import constants as Cst\n",
    "import specifications as Spec"
   ]
  },
  {
   "cell_type": "markdown",
   "metadata": {},
   "source": [
    "Creation of an OpenMDAO problem using the launch vehicle group"
   ]
  },
  {
   "cell_type": "code",
   "execution_count": 4,
   "metadata": {},
   "outputs": [
    {
     "data": {
      "text/plain": [
       "<openmdao.core.problem.Problem at 0x2b63f80ef10>"
      ]
     },
     "execution_count": 4,
     "metadata": {},
     "output_type": "execute_result"
    }
   ],
   "source": [
    "P_obj = om.Problem()\n",
    "P_obj.model=Launch_vehicle_Group.Launcher_vehicle()\n",
    "P_obj.setup()"
   ]
  },
  {
   "cell_type": "markdown",
   "metadata": {},
   "source": [
    "Visualize the N2 chart to visualize the connections between the disciplines"
   ]
  },
  {
   "cell_type": "code",
   "execution_count": 5,
   "metadata": {},
   "outputs": [
    {
     "data": {
      "text/html": [
       "\n",
       "        <iframe\n",
       "            width=\"100%\"\n",
       "            height=\"700\"\n",
       "            src=\"n2.html\"\n",
       "            frameborder=\"0\"\n",
       "            allowfullscreen\n",
       "        ></iframe>\n",
       "        "
      ],
      "text/plain": [
       "<IPython.lib.display.IFrame at 0x2b639fa0c70>"
      ]
     },
     "metadata": {},
     "output_type": "display_data"
    }
   ],
   "source": [
    "om.n2(P_obj,outfile='n2.html',show_browser=True)"
   ]
  },
  {
   "cell_type": "markdown",
   "metadata": {},
   "source": [
    "### Fixed Point Iteration (FPI)\n",
    "\n",
    "Enable the solving of interdisciplinary couplings between the 'trajectory' and the 'sizing and structure (struct_1)' disciplines. The feedback coupling \"Pdyn_max_dim\" is an input of the 'sizing and structure' discipline and \"max_pdyn_load_ascent_stage_1\" is an output of the trajectory discipline and these variables have to be equal to satisfy the interdisciplinary couplings. \n",
    "\n",
    "The variable \"Pdyn_max_dim\" is initialized to run the propulsion, the aerodynamics, the structure and then the trajectory disciplines and the output of the trajectory \"max_pdyn_load_ascent_stage_1\" is compared to the input of the structure \"Pdyn_max_dim\". If the difference is too large, the input of the structure \"Pdyn_max_dim\" is updated with the corresponding output of the trajectory discipline and a new evaluation of the disciplines is carried out.\n",
    "\n",
    "For the stage fallout: use variable 'is_fallout': if is_fallout=0: no simulation of stage 1 fallout else if is_fallout=1: simulation of stage 1 fallout (not running for the moment, see Project 2)"
   ]
  },
  {
   "cell_type": "code",
   "execution_count": 6,
   "metadata": {},
   "outputs": [],
   "source": [
    "def FPI(tuple_input):\n",
    "#    x = tuple_input[0]\n",
    "#    lowerbnd_exp = tuple_input[1]\n",
    "#    upperbnd_exp = tuple_input[2]\n",
    "    Pb = tuple_input\n",
    "#    \n",
    "    Pb.setup(check = False)\n",
    "#    XX = lowerbnd_exp + (upperbnd_exp - lowerbnd_exp)*x\n",
    "    Pb['Diameter_stage_1'] = 5.0\n",
    "    Pb['Diameter_stage_2'] = 5.0\n",
    "    Pb['Mass_flow_rate_stage_1'] = 250.\n",
    "    Pb['Mass_flow_rate_stage_2'] = 250.\n",
    "    Pb['Thrust_stage_1'] = 1000.\n",
    "    Pb['Thrust_stage_2'] = 800.\n",
    "    Pb['OF_stage_1'] = 5.0\n",
    "    Pb['OF_stage_2'] = 5.0\n",
    "    Pb['Pc_stage_1'] = 100.0\n",
    "    Pb['Pc_stage_2'] = 100.0\n",
    "    Pb['Pe_stage_1'] = 1.0\n",
    "    Pb['Pe_stage_2'] = 1.0\n",
    "    Pb['N_eng_stage_1'] = 8.\n",
    "    Pb['N_eng_stage_2'] = 1.\n",
    "    Pb['Prop_mass_stage_1'] = 320000.\n",
    "    Pb['Prop_mass_stage_2'] = 75000.\n",
    "    Pb['thetacmd_i'] = 2.72\n",
    "    Pb['thetacmd_f'] = 10.\n",
    "    Pb['ksi'] = 0.293\n",
    "    Pb['Pitch_over_duration'] = 5.\n",
    "    Pb['Exit_nozzle_area_stage_1'] = 0.79\n",
    "    Pb['Exit_nozzle_area_stage_2'] = 3.6305\n",
    "    Pb['Delta_vertical_phase'] = 10.\n",
    "    Pb['Delta_theta_pitch_over'] = 1.        \n",
    "    Pb['command_stage_1_exo'] = np.array([30.,-20.])\n",
    "    Pb['is_fallout']=0. #0: no simulation of stage 1 fallout, 1: simulation of stage 1 fallout\n",
    "\n",
    "    error = 100.\n",
    "    Pb['Pdyn_max_dim'] = 40.\n",
    "    k=0\n",
    "    while error>1. and k<20:\n",
    "        Pb.run_model()\n",
    "        error = abs(Pb['Pdyn_max_dim']-Pb['max_pdyn_load_ascent_stage_1']/1e3)\n",
    "        Pb['Pdyn_max_dim'] = Pb['max_pdyn_load_ascent_stage_1']/1e3\n",
    "        k = k+1\n",
    "        print('Fixed Point Iteration: ',k ,', error: ', np.round(error[0],2), ', Input pdyn max (kPa): ', np.round(Pb['Pdyn_max_dim'][0],2))\n",
    "    return Pb"
   ]
  },
  {
   "cell_type": "code",
   "execution_count": 7,
   "metadata": {},
   "outputs": [
    {
     "name": "stdout",
     "output_type": "stream",
     "text": [
      "Fixed Point Iteration:  1 , error:  3.83 , Input pdyn max (kPa):  36.17\n",
      "Fixed Point Iteration:  2 , error:  0.01 , Input pdyn max (kPa):  36.18\n"
     ]
    }
   ],
   "source": [
    "P_out = FPI(P_obj)\n",
    "GLOW, contraintes = post_traitement.post_traitement(P_out)"
   ]
  },
  {
   "cell_type": "markdown",
   "metadata": {},
   "source": [
    "## Plot outputs of trajectory simulation"
   ]
  },
  {
   "cell_type": "code",
   "execution_count": 8,
   "metadata": {},
   "outputs": [
    {
     "data": {
      "image/png": "[encoded data removed]",
      "text/plain": [
       "<Figure size 1080x1080 with 8 Axes>"
      ]
     },
     "metadata": {
      "needs_background": "light"
     },
     "output_type": "display_data"
    }
   ],
   "source": [
    "result_vizualization.plots_output(P_out)"
   ]
  },
  {
   "cell_type": "markdown",
   "metadata": {},
   "source": [
    "### Output data from simulation"
   ]
  },
  {
   "cell_type": "code",
   "execution_count": 9,
   "metadata": {},
   "outputs": [
    {
     "data": {
      "text/html": [
       "<div>\n",
       "<style scoped>\n",
       "    .dataframe tbody tr th:only-of-type {\n",
       "        vertical-align: middle;\n",
       "    }\n",
       "\n",
       "    .dataframe tbody tr th {\n",
       "        vertical-align: top;\n",
       "    }\n",
       "\n",
       "    .dataframe thead th {\n",
       "        text-align: right;\n",
       "    }\n",
       "</style>\n",
       "<table border=\"1\" class=\"dataframe\">\n",
       "  <thead>\n",
       "    <tr style=\"text-align: right;\">\n",
       "      <th></th>\n",
       "      <th>GLOW (t)</th>\n",
       "      <th>Dry_mass_stage_1  (t)</th>\n",
       "      <th>Dry_mass_stage_2  (t)</th>\n",
       "      <th>Prop_mass_stage_1 (t)</th>\n",
       "      <th>Prop_mass_stage_2 (t)</th>\n",
       "    </tr>\n",
       "  </thead>\n",
       "  <tbody>\n",
       "    <tr>\n",
       "      <th>0</th>\n",
       "      <td>441.198</td>\n",
       "      <td>32.27</td>\n",
       "      <td>6.928</td>\n",
       "      <td>320.0</td>\n",
       "      <td>75.0</td>\n",
       "    </tr>\n",
       "  </tbody>\n",
       "</table>\n",
       "</div>"
      ],
      "text/plain": [
       "   GLOW (t)  Dry_mass_stage_1  (t)  Dry_mass_stage_2  (t)  \\\n",
       "0   441.198                  32.27                  6.928   \n",
       "\n",
       "   Prop_mass_stage_1 (t)  Prop_mass_stage_2 (t)  \n",
       "0                  320.0                   75.0  "
      ]
     },
     "execution_count": 9,
     "metadata": {},
     "output_type": "execute_result"
    }
   ],
   "source": [
    "data = [[P_out['GLOW'][0]/1e3,\n",
    "         P_out['Dry_mass_stage_1'][0]/1e3,\n",
    "         P_out['Dry_mass_stage_2'][0]/1e3,\n",
    "        P_out['Prop_mass_stage_1'][0]/1e3,\n",
    "        P_out['Prop_mass_stage_2'][0]/1e3]]\n",
    "df = pd.DataFrame(data, columns=[\"GLOW (t)\", \"Dry_mass_stage_1  (t)\", \n",
    "                                     \"Dry_mass_stage_2  (t)\", \"Prop_mass_stage_1 (t)\", \n",
    "                                     \"Prop_mass_stage_2 (t)\"])\n",
    "df.round(3)"
   ]
  },
  {
   "cell_type": "markdown",
   "metadata": {},
   "source": [
    "## <font color='blue'> Optimization problem:</font>"
   ]
  },
  {
   "cell_type": "markdown",
   "metadata": {},
   "source": [
    "\\begin{eqnarray}\n",
    "\\text{min} & & \\text{GLOW}(\\mathbf{z}) \\\\\n",
    "\\text{w.r.t} & & \\mathbf{z}=[\\text{M}_{prop1},\\text{M}_{prop2},\\theta_i, \\theta_f, \\xi, \\Delta_t, \\Delta_\\theta, t_{vertical}, \\theta_{cmd} ] \\\\\n",
    "\\text{s.t.} & & \\alpha_{ascent}(\\mathbf{z}) \\leq 15 \\\\\n",
    " & & NX_{ascent}(\\mathbf{z}) \\leq 4.5 \\\\\n",
    " & & Pdyn_{ascent}(\\mathbf{z}) \\leq 40. \\\\\n",
    " & & HeatFlux_{ascent}(\\mathbf{z}) \\leq 100. \\\\\n",
    " & & \\text{Apogee}(\\mathbf{z}) = 700. \\\\\n",
    " & & \\text{Perigee}_{CoastPhase}(\\mathbf{z}) \\geq 140. \\\\\n",
    " & & M_{Circularization}(\\mathbf{z}) \\geq 0. \\\\\n",
    " &&\\mathbf{z}_\\text{min} \\leq \\mathbf{z} \\leq \\mathbf{z}_\\text{max}\n",
    "\\end{eqnarray}\n",
    "\n",
    "with:\n",
    "- GLOW: Gross-Lift-Off Weight\n",
    "- $\\mathbf{z} \\in \\mathbb{R}^{10}$, in practice the input variables are normalized into $[0. ,1.]^{10}$\n",
    "- $\\text{M}_{prop1}$: Prop_mass_stage_1\n",
    "- $\\text{M}_{prop2}$: Prop_mass_stage_2\n",
    "- $\\theta_i$: thetacmd_i, pitch angle begining of bilinear phase \n",
    "- $\\theta_f$: thetacmd_f, pitch angle end of bilinear phase \n",
    "- $\\xi$: ksi, shape parameter of bilinear phase \n",
    "- $\\Delta_t$: Pitch_over_duration\n",
    "- $\\Delta_\\theta$: Delta_theta_pitch_over\n",
    "- $t_{vertical}$: Delta_vertical_phase\n",
    "- $\\theta_{cmd}$: command_stage_1_exo (vector of dimension 2)\n",
    "\n",
    "The constraints are defined in the specification.py file:\n",
    "- $\\alpha_{ascent}$: angle of attack during the ascent phase that must be below 15 degrees\n",
    "- $NX_{ascent}$: axial load factor during the ascent phase that must be below 4.5g\n",
    "- $Pdyn_{ascent}$: dynamic pressure during the ascent phase that must be below 40kPa\n",
    "- $HeatFlux_{ascent}$: heat flux during the ascent phase that must be below 100 $W/m^2$\n",
    "- $\\text{Apogee}$: Apogee altitude of the coast phase transition orbit must be equal to 700km\n",
    "- $\\text{Perigee}_{CoastPhase}$: Perigee altitude of the coast phase transition orbit must be above 140km\n",
    "- $M_{Circularization}$: remaining propellant mass before the circularization burn must be sufficient to circularize the final orbit 700 x 700km "
   ]
  },
  {
   "cell_type": "markdown",
   "metadata": {},
   "source": [
    "### FPI for optimization"
   ]
  },
  {
   "cell_type": "code",
   "execution_count": 10,
   "metadata": {},
   "outputs": [],
   "source": [
    "def FPI_optim(x,lowerbnd_exp,upperbnd_exp,Pb):\n",
    "\n",
    "    Pb.setup(check = False)\n",
    "    XX = lowerbnd_exp + (upperbnd_exp - lowerbnd_exp)*x\n",
    "    Pb['Diameter_stage_1'] = 5.0\n",
    "    Pb['Diameter_stage_2'] = 5.0\n",
    "    Pb['Mass_flow_rate_stage_1'] = 300.\n",
    "    Pb['Mass_flow_rate_stage_2'] = 200.\n",
    "    Pb['Thrust_stage_1'] = 1000.\n",
    "    Pb['Thrust_stage_2'] = 1000. # not used\n",
    "    Pb['OF_stage_1'] = 5.\n",
    "    Pb['OF_stage_2'] = 5.5\n",
    "    Pb['Pc_stage_1'] = 80.0\n",
    "    Pb['Pc_stage_2'] = 60.0\n",
    "    Pb['Pe_stage_1'] = 1.0\n",
    "    Pb['Pe_stage_2'] = 1.0\n",
    "    Pb['N_eng_stage_1'] = 6.\n",
    "    Pb['N_eng_stage_2'] = 1.\n",
    "    Pb['Prop_mass_stage_1'] = XX[0]*1e3\n",
    "    Pb['Prop_mass_stage_2'] = XX[1]*1e3\n",
    "    Pb['thetacmd_i'] = XX[2]\n",
    "    Pb['thetacmd_f'] = XX[3] \n",
    "    Pb['ksi'] = XX[4]\n",
    "    Pb['Pitch_over_duration'] = XX[5]\n",
    "    Pb['Exit_nozzle_area_stage_1'] = 0.79\n",
    "    Pb['Exit_nozzle_area_stage_2'] = 3.6305\n",
    "    Pb['Delta_vertical_phase'] = XX[6]\n",
    "    Pb['Delta_theta_pitch_over'] = XX[7]        \n",
    "    Pb['command_stage_1_exo'] = XX[8:10]\n",
    "    Pb['is_fallout']=0. #0: no simulation of stage 1 fallout, 1: simulation of stage 1 fallout\n",
    "\n",
    "    error = 100.\n",
    "    Pb['Pdyn_max_dim'] = 40.\n",
    "    k=0\n",
    "    while error>1. and k<20: # Solving of Fixed Point Iteration via Gauss-Seidel\n",
    "        Pb.run_model()\n",
    "        error = abs(Pb['Pdyn_max_dim']-Pb['max_pdyn_load_ascent_stage_1']/1e3)\n",
    "        Pb['Pdyn_max_dim'] = Pb['max_pdyn_load_ascent_stage_1']/1e3\n",
    "        k = k+1\n",
    "    return Pb"
   ]
  },
  {
   "cell_type": "markdown",
   "metadata": {},
   "source": [
    "### Definition of objective function\n",
    "Definition the objective function for evolutionary algorithm Covariance Matrix Adaptation (CMA-ES) more details on CMA-ES [here](http://cma.gforge.inria.fr/) and [here](https://en.wikipedia.org/wiki/CMA-ES). Penalization strategy is used to handle the different constraints in this example.\n",
    "If the constraints are not satisfied, the \"penalized objective function\" corresponds to the minimization of the constraint violation, and if the constraints are satisfied, $-(1e6 - GLOW)/1e5$ is minimized: \n",
    "when the constraints are not satisfied, the objective function takes as value the sum of non satisfied constraints."
   ]
  },
  {
   "cell_type": "code",
   "execution_count": 11,
   "metadata": {},
   "outputs": [],
   "source": [
    "def Objective_function(x,lowerbnd_exp,upperbnd_exp,Pb,simu):\n",
    "    P_out = FPI_optim(x,lowerbnd_exp,upperbnd_exp,Pb)\n",
    "    GLOW, contraintes = post_traitement.post_traitement(P_out)\n",
    "    if simu==0: \n",
    "        if len(np.where(contraintes>1e-2)[0])==0:            \n",
    "            return -(1e6 - GLOW)/1e5\n",
    "        else:\n",
    "\n",
    "            cont = np.sum(contraintes[np.where(contraintes>0)[0]])\n",
    "            return cont\n",
    "    else :\n",
    "        if len(np.where(contraintes>1e-2)[0])==0:\n",
    "            return GLOW/1e5,-5 \n",
    "        else:\n",
    "            return GLOW/1e5,contraintes    "
   ]
  },
  {
   "cell_type": "markdown",
   "metadata": {},
   "source": [
    "### Definition of lower and upper bounds for the normalization during optimization"
   ]
  },
  {
   "cell_type": "code",
   "execution_count": 12,
   "metadata": {},
   "outputs": [],
   "source": [
    "lowerbnd_exp = np.array([150.,#Prop_mass_stage_1\n",
    "                         20., #Prop_mass_stage_2\n",
    "                          0.,#theta_cmd_i\n",
    "                         -10.,#theta_cmd_f\n",
    "                         -1.,#ksi\n",
    "                         5., #Pitch_over_duration\n",
    "                         5., #Delta_vertical_phase\n",
    "                         1., #Delta_theta_pitch_over\n",
    "                         10.,10.]) #command_stage_1_exo\n",
    "\n",
    "upperbnd_exp = np.array([600.,#Prop_mass_stage_1\n",
    "                         200., #Prop_mass_stage_2\n",
    "                         50.,#theta_cmd_i\n",
    "                         20.,#theta_cmd_f\n",
    "                         1.,#ksi\n",
    "                         20., #Pitch_over_duration\n",
    "                         20., #Delta_vertical_phase\n",
    "                         10., #Delta_theta_pitch_over\n",
    "                         70.,70.]) #command_stage_1_exo"
   ]
  },
  {
   "cell_type": "markdown",
   "metadata": {},
   "source": [
    "### Definition of CMA-ES options and bounds"
   ]
  },
  {
   "cell_type": "code",
   "execution_count": 13,
   "metadata": {},
   "outputs": [],
   "source": [
    "lower = np.zeros([1,len(lowerbnd_exp)])\n",
    "upper = np.ones([1,len(upperbnd_exp)])  \n",
    "options = cma.CMAOptions()\n",
    "bound_cma = np.array([lower[0],upper[0]])\n",
    "options = {'ftarget':-9e7,'tolfun':1e-5,'tolx':1e-6,'seed':2,\n",
    "           'bounds':[bound_cma[0],bound_cma[1]],'popsize':12,'maxiter':100,'verb_disp': 1}\n",
    "simu = 0\n",
    "init = np.ones(len(lowerbnd_exp))*0.5\n",
    "critere_cma = lambda x: Objective_function(x,lowerbnd_exp,upperbnd_exp,P_obj,simu)"
   ]
  },
  {
   "cell_type": "markdown",
   "metadata": {},
   "source": [
    "Parameters of CMA are regrouped into a dictionnary \"options\", of which the keys are the following: \n",
    "- ftarget: stopping value of objective function,\n",
    "- tolfun: tolerance value on objective functon,\n",
    "- tolx: tolerance value on design variable variations,\n",
    "- seed: seed of random generator of CMA-ES\n",
    "- bounds: (normalized) bounds on the design variables,\n",
    "- popsize: population size of CMA\n",
    "- maxiter: maximum number of iterations,\n",
    "- verdisp: display option"
   ]
  },
  {
   "cell_type": "markdown",
   "metadata": {},
   "source": [
    "### Running of CMA-ES\n",
    "Parameter $\\sigma$ is set at 0.2 in the following example, see CMA documentation"
   ]
  },
  {
   "cell_type": "code",
   "execution_count": null,
   "metadata": {},
   "outputs": [
    {
     "name": "stdout",
     "output_type": "stream",
     "text": [
      "(6_w,12)-aCMA-ES (mu_w=3.7,w_1=40%) in dimension 10 (seed=2, Wed Jan  5 17:15:56 2022)\n",
      "Iterat #Fevals   function value  axis ratio  sigma  min&max std  t[m:s]\n",
      "    1     12 7.009361667901456e+03 1.0e+00 1.89e-01  2e-01  2e-01 0:01.9\n",
      "    2     24 2.203973932160061e+01 1.2e+00 1.83e-01  2e-01  2e-01 0:03.8\n",
      "    3     36 1.921607313955398e+00 1.3e+00 1.81e-01  2e-01  2e-01 0:05.3\n",
      "    4     48 5.322611643737040e+01 1.3e+00 1.87e-01  2e-01  2e-01 0:07.6\n",
      "    5     60 2.041864896055702e+01 1.4e+00 1.80e-01  2e-01  2e-01 0:10.0\n",
      "    6     72 1.149460848074958e+01 1.4e+00 1.66e-01  2e-01  2e-01 0:12.6\n",
      "    7     84 1.154458809669145e+01 1.4e+00 1.56e-01  1e-01  2e-01 0:15.9\n",
      "    8     96 3.646598094725785e+01 1.4e+00 1.62e-01  1e-01  2e-01 0:18.3\n",
      "    9    108 2.837326633376936e+00 1.5e+00 1.75e-01  2e-01  2e-01 0:20.7\n",
      "   10    120 1.274128108344618e+01 1.6e+00 1.78e-01  2e-01  2e-01 0:23.4\n",
      "Iterat #Fevals   function value  axis ratio  sigma  min&max std  t[m:s]\n",
      "   11    132 1.678272536639899e+01 1.7e+00 1.77e-01  2e-01  2e-01 0:26.8\n",
      "   12    144 1.925361971140511e+01 1.7e+00 1.77e-01  1e-01  2e-01 0:29.4\n",
      "   13    156 6.640499878588731e+00 1.7e+00 1.60e-01  1e-01  2e-01 0:32.2\n",
      "   14    168 6.910604761763501e+00 1.8e+00 1.58e-01  1e-01  2e-01 0:34.9\n",
      "   15    180 1.401647220899430e+01 1.9e+00 1.58e-01  1e-01  2e-01 0:37.6\n",
      "   16    192 1.094547580600313e+01 1.9e+00 1.44e-01  1e-01  2e-01 0:40.2\n",
      "   17    204 1.962809696272731e+01 1.9e+00 1.36e-01  1e-01  2e-01 0:42.6\n",
      "   18    216 7.597559960748995e+00 1.9e+00 1.24e-01  9e-02  1e-01 0:45.6\n",
      "   19    228 7.594517721939020e-02 2.0e+00 1.18e-01  8e-02  1e-01 0:48.7\n",
      "   20    240 2.795194683488151e+00 2.1e+00 1.10e-01  7e-02  1e-01 0:51.6\n",
      "Iterat #Fevals   function value  axis ratio  sigma  min&max std  t[m:s]\n",
      "   21    252 1.199856596526129e+00 2.2e+00 1.05e-01  7e-02  1e-01 0:54.4\n",
      "   22    264 1.185440660283955e+00 2.1e+00 9.78e-02  6e-02  1e-01 0:57.5\n",
      "   23    276 1.672223334648607e+01 2.1e+00 9.12e-02  6e-02  1e-01 1:00.4\n",
      "   24    288 1.977475913260523e+00 2.1e+00 8.78e-02  5e-02  9e-02 1:03.9\n",
      "   25    300 2.025169796804829e+00 2.2e+00 7.79e-02  5e-02  8e-02 1:06.7\n",
      "   26    312 2.255784771478044e-01 2.2e+00 7.82e-02  5e-02  8e-02 1:09.4\n",
      "   27    324 -5.915809413279231e+00 2.3e+00 7.78e-02  4e-02  8e-02 1:12.3\n",
      "   28    336 -5.901242659739512e+00 2.4e+00 8.00e-02  4e-02  8e-02 1:15.7\n"
     ]
    }
   ],
   "source": [
    "res = cma.fmin(critere_cma,init,.2,options)"
   ]
  },
  {
   "cell_type": "markdown",
   "metadata": {},
   "source": [
    "### Results of optimization\n",
    "#### Optimal value of the design variables, of the objective function and penalized constraints and of the GLOW\n",
    "Be careful that the optimal value of the design variables do not reach the bounds defined in lowerbnd_exp and upperbnd_exp especially for the propellant masses. If it is the case, modify the bounds and rerun the optimization."
   ]
  },
  {
   "cell_type": "code",
   "execution_count": null,
   "metadata": {
    "scrolled": true
   },
   "outputs": [],
   "source": [
    "print('>> Optimal design variable values',res[0])\n",
    "print('>> Objective, Penalized Constraint',Objective_function(res[0],lowerbnd_exp,upperbnd_exp,P_obj,1))\n",
    "print('>> Optimal GLOW (t)', P_obj['GLOW']/1e3)"
   ]
  },
  {
   "cell_type": "markdown",
   "metadata": {},
   "source": [
    "### Plots of the results of optimization"
   ]
  },
  {
   "cell_type": "code",
   "execution_count": null,
   "metadata": {},
   "outputs": [],
   "source": [
    "P_out = FPI_optim(res[0],lowerbnd_exp,upperbnd_exp,P_obj)\n",
    "result_vizualization.plots_output(P_out)"
   ]
  },
  {
   "cell_type": "code",
   "execution_count": null,
   "metadata": {},
   "outputs": [],
   "source": [
    "data = [[P_out['GLOW'][0]/1e3,\n",
    "         P_out['Dry_mass_stage_1'][0]/1e3,\n",
    "         P_out['Dry_mass_stage_2'][0]/1e3,\n",
    "        P_out['Prop_mass_stage_1'][0]/1e3,\n",
    "        P_out['Prop_mass_stage_2'][0]/1e3]]\n",
    "df = pd.DataFrame(data, columns=[\"GLOW (t)\", \"Dry_mass_stage_1  (t)\", \n",
    "                                     \"Dry_mass_stage_2  (t)\", \"Prop_mass_stage_1 (t)\", \n",
    "                                     \"Prop_mass_stage_2 (t)\"])\n",
    "df.round(3)"
   ]
  },
  {
   "cell_type": "code",
   "execution_count": null,
   "metadata": {},
   "outputs": [],
   "source": [
    "print(Pb_out['Radiative Forcing'][0])"
   ]
  }
 ],
 "metadata": {
  "kernelspec": {
   "display_name": "Python 3",
   "language": "python",
   "name": "python3"
  },
  "language_info": {
   "codemirror_mode": {
    "name": "ipython",
    "version": 3
   },
   "file_extension": ".py",
   "mimetype": "text/x-python",
   "name": "python",
   "nbconvert_exporter": "python",
   "pygments_lexer": "ipython3",
   "version": "3.8.3"
  }
 },
 "nbformat": 4,
 "nbformat_minor": 2
}
