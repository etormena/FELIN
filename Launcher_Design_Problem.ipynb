{
 "cells": [
  {
   "cell_type": "markdown",
   "metadata": {},
   "source": [
    "# <h1><center> <font color='red'> Two-Stage-To-Orbit design problem</font> </h1></center>"
   ]
  },
  {
   "cell_type": "markdown",
   "metadata": {},
   "source": [
    "<center> L. BREVAULT (ONERA/DTIS), M. BALESDENT (ONERA/DTIS), G. SIRE (ONERA/DTIS)</center>\n",
    "<center> loic.brevault@onera.fr, mathieu.balesdent@onera.fr, glen.sire@onera.fr </center>\n",
    "<center> Nov 2021  </center>"
   ]
  },
  {
   "cell_type": "markdown",
   "metadata": {},
   "source": [
    "## <font color='blue'> Problem description:</font>\n",
    "\n",
    "- <font color='blue'> Simulation</font> of a **Two-Stage-To-Orbit expendable launch vehicle** using four coupled disciplines:\n",
    "    - Propulsion,\n",
    "    - Aerodynamics,\n",
    "    - Structure and sizing,\n",
    "    - Trajectory.\n",
    "- <font color='blue'> Mission</font>: injection of a **5t** payload into a **700km x 700km** circular orbit (equatorial)\n",
    "- <font color='blue'> Trajectory simulation </font> in the local geographic frame, 3D, non-rotating Earth:\n",
    "<center>\n",
    "$\\dot{r} = V \\sin(\\gamma)$\n",
    "</center> \n",
    "<center>\n",
    "$\\dot{V} = -\\frac{1}{2m} \\rho S_{ref} C_X V^2 -g(r) \\sin(\\gamma) + \\frac{T}{m} \\cos(\\theta-\\gamma) +\\omega_E^2 r \\sin(\\gamma)$ \n",
    "</center>\n",
    "<center>   \n",
    "$\\dot{\\gamma} = \\left(\\frac{V}{r} - \\frac{g(r)}{V}\\right) \\cos(\\gamma) + \\frac{T}{mV} \\sin(\\theta - \\gamma)+ 2\\omega_E + \\frac{\\omega_E^2 r \\cos(\\gamma)}{V} + \\frac{L}{mV}$\n",
    "</center>    \n",
    "<center>\n",
    "$\\dot{l} = \\frac{V}{r} \\cos(\\gamma) $\n",
    "</center> \n",
    "<center>       \n",
    "$\\dot{m} = - q $\n",
    "</center>    \n",
    "where:\n",
    "$r$: altitude (m),\n",
    "$V$: norm of velocity (m/s),\n",
    "$\\gamma$: flight path angle (rad),\n",
    "$l$: longitude (rad),\n",
    "$m$: mass (kg),\n",
    "$\\theta$: pitch angle (rad),\n",
    "$S_{ref}$: surface of reference ($m^2$),\n",
    "$T$: thrust (N),\n",
    "$\\rho$: air density ($kg/m^3$),\n",
    "$C_X$: drag coefficient,\n",
    "$g(r)$: Earth gravity ($m/s^2$),\n",
    "$q$: mass flow rate ($kg/m^3$) and $\\alpha$: angle of attack (rad).\n",
    "\n",
    "<img src=\"angles_definition.png\" alt=\"Drawing\" style=\"width: 300px;\"/>\n",
    "\n",
    "- <font color='blue'> Trajectory phases and control </font>:\n",
    "    - Lift-off: $\\theta = \\pi/2$\n",
    "    - Pitch-over maneuver: $\\theta(t) = \\gamma - \\frac{\\Delta_{\\theta} * t}{\\Delta_t}$\n",
    "        - where $\\Delta_{\\theta}$ is the variation (in rad) of $\\theta$ during the maneuver and $\\Delta_t$ is the duration of the maneuver (in s)\n",
    "    - Gravity turn: return to angle of attack of zero and then $\\theta = \\gamma$ ($\\alpha = 0.$)\n",
    "    - Exo-atmospheric command for first stage: $\\theta$ is optimized by a linear interpolation control law (parameters are waypoints of $\\theta$ as a function of time, 2 parameters are used: $\\theta$ at the time at which the exo-atmospheric phase begins and $\\theta$ at the end of the first stage flight)\n",
    "    - Separation between the first and second stages\n",
    "    - Second stage flight (bi-linear tangent command): $\\tan(\\theta) = \\frac{a^\\xi \\tan(\\theta_i)+(\\tan(\\theta_f)-a^\\xi \\tan(\\theta_i))t}{a^\\xi+(1-a^\\xi)t}$\n",
    "        - where $a$ is a constant, $\\xi$ a parameter defining the shape of the bi-linear tangeant law, $\\theta_i$ and $\\theta_f$ the pitch angles at the beginning and at the end of the phase, see [F. Castellini PhD thesis](https://www.google.com/url?sa=t&rct=j&q=&esrc=s&source=web&cd=2&cad=rja&uact=8&ved=2ahUKEwiYq9yN9urhAhWaAmMBHeMHDmQQFjABegQIARAC&url=https%3A%2F%2Fwww.politesi.polimi.it%2Fbitstream%2F10589%2F56841%2F1%2F201203_PhD_Castellini.pdf&usg=AOvVaw14PiJUsq8IUSFMbhVEfBef) page 69\n",
    "    - Coast phase (balistic flight to reach the final orbit -- not simulated)\n",
    "    - Orbit circularization boost (-- not simulated)\n",
    "\n",
    "<img src=\"trajectory_phase.png\" alt=\"Drawing\" style=\"width: 600px;\"/>\n",
    "\n",
    "\n",
    "- <font color='blue'> Propulsion</font>: simplified model based on [M. Balesdent PhD thesis](https://tel.archives-ouvertes.fr/tel-00659362/document) pages 100-101\n",
    "- <font color='blue'> Structure and sizing</font>: Mass Estimating Relations (MER) based on [F. Castellini PhD thesis](https://www.google.com/url?sa=t&rct=j&q=&esrc=s&source=web&cd=2&cad=rja&uact=8&ved=2ahUKEwiYq9yN9urhAhWaAmMBHeMHDmQQFjABegQIARAC&url=https%3A%2F%2Fwww.politesi.polimi.it%2Fbitstream%2F10589%2F56841%2F1%2F201203_PhD_Castellini.pdf&usg=AOvVaw14PiJUsq8IUSFMbhVEfBef) pages 79-85\n",
    "- <font color='blue'> Aerodynamics </font>: fixed drag table $C_X(\\text{Mach},\\alpha)$ as a function of Mach and angle of attack $\\alpha$ (rad) obtained for a representative TSTO launcher geometry using low fidelity aerodynamics code (e.g. MissileDATCOM).\n",
    "\n",
    "\n",
    "- Use of [OpenMDAO](http://openmdao.org/) to connect the different disciplines as a group\n"
   ]
  },
  {
   "cell_type": "markdown",
   "metadata": {},
   "source": [
    "## <font color='blue'> Problem simulation:</font>"
   ]
  },
  {
   "cell_type": "markdown",
   "metadata": {},
   "source": [
    "Import of general python librairy "
   ]
  },
  {
   "cell_type": "code",
   "execution_count": 1,
   "metadata": {},
   "outputs": [],
   "source": [
    "import numpy as np\n",
    "import pandas as pd\n",
    "import sys\n",
    "np.set_printoptions(threshold=sys.maxsize)\n",
    "from matplotlib import pyplot as plt"
   ]
  },
  {
   "cell_type": "markdown",
   "metadata": {},
   "source": [
    "Import OpenMDAO + CMA-ES optimization algorithm\n",
    "\n",
    "-Required packages : \n",
    "    - pip install openmdao\n",
    "    - pip install cma\n",
    "    - pip install geopy\n",
    "    - pip install pandas"
   ]
  },
  {
   "cell_type": "code",
   "execution_count": 2,
   "metadata": {},
   "outputs": [],
   "source": [
    "import openmdao.api as om\n",
    "import cma"
   ]
  },
  {
   "cell_type": "markdown",
   "metadata": {},
   "source": [
    "Import of specific Python functions for launch vehicle design"
   ]
  },
  {
   "cell_type": "code",
   "execution_count": 3,
   "metadata": {},
   "outputs": [],
   "source": [
    "import Launch_vehicle_Group\n",
    "import post_traitement\n",
    "import result_vizualization\n",
    "import constants as Cst\n",
    "import specifications as Spec"
   ]
  },
  {
   "cell_type": "markdown",
   "metadata": {},
   "source": [
    "Creation of an OpenMDAO problem using the launch vehicle group"
   ]
  },
  {
   "cell_type": "code",
   "execution_count": 4,
   "metadata": {},
   "outputs": [
    {
<<<<<<< Updated upstream
     "ename": "RuntimeError",
     "evalue": "'cycle.Envi' <class Environment_comp>: 'promotes_outputs' failed to find any matches for the following names or patterns: ['Emissions_BC', 'Emissions_CO2', 'Emissions_H2O'].",
     "output_type": "error",
     "traceback": [
      "\u001b[1;31m---------------------------------------------------------------------------\u001b[0m",
      "\u001b[1;31mRuntimeError\u001b[0m                              Traceback (most recent call last)",
      "\u001b[1;32m<ipython-input-4-5b9e1cf1fb25>\u001b[0m in \u001b[0;36m<module>\u001b[1;34m\u001b[0m\n\u001b[0;32m      1\u001b[0m \u001b[0mP_obj\u001b[0m \u001b[1;33m=\u001b[0m \u001b[0mom\u001b[0m\u001b[1;33m.\u001b[0m\u001b[0mProblem\u001b[0m\u001b[1;33m(\u001b[0m\u001b[1;33m)\u001b[0m\u001b[1;33m\u001b[0m\u001b[1;33m\u001b[0m\u001b[0m\n\u001b[0;32m      2\u001b[0m \u001b[0mP_obj\u001b[0m\u001b[1;33m.\u001b[0m\u001b[0mmodel\u001b[0m\u001b[1;33m=\u001b[0m\u001b[0mLaunch_vehicle_Group\u001b[0m\u001b[1;33m.\u001b[0m\u001b[0mLauncher_vehicle\u001b[0m\u001b[1;33m(\u001b[0m\u001b[1;33m)\u001b[0m\u001b[1;33m\u001b[0m\u001b[1;33m\u001b[0m\u001b[0m\n\u001b[1;32m----> 3\u001b[1;33m \u001b[0mP_obj\u001b[0m\u001b[1;33m.\u001b[0m\u001b[0msetup\u001b[0m\u001b[1;33m(\u001b[0m\u001b[1;33m)\u001b[0m\u001b[1;33m\u001b[0m\u001b[1;33m\u001b[0m\u001b[0m\n\u001b[0m",
      "\u001b[1;32m~\\anaconda3\\lib\\site-packages\\openmdao\\core\\problem.py\u001b[0m in \u001b[0;36msetup\u001b[1;34m(self, check, logger, mode, force_alloc_complex, distributed_vector_class, local_vector_class, derivatives)\u001b[0m\n\u001b[0;32m    936\u001b[0m             \u001b[1;34m'using_par_deriv_color'\u001b[0m\u001b[1;33m:\u001b[0m \u001b[1;32mFalse\u001b[0m\u001b[1;33m,\u001b[0m  \u001b[1;31m# True if parallel derivative coloring is being used\u001b[0m\u001b[1;33m\u001b[0m\u001b[1;33m\u001b[0m\u001b[0m\n\u001b[0;32m    937\u001b[0m         }\n\u001b[1;32m--> 938\u001b[1;33m         \u001b[0mmodel\u001b[0m\u001b[1;33m.\u001b[0m\u001b[0m_setup\u001b[0m\u001b[1;33m(\u001b[0m\u001b[0mmodel_comm\u001b[0m\u001b[1;33m,\u001b[0m \u001b[0mmode\u001b[0m\u001b[1;33m,\u001b[0m \u001b[0mself\u001b[0m\u001b[1;33m.\u001b[0m\u001b[0m_metadata\u001b[0m\u001b[1;33m)\u001b[0m\u001b[1;33m\u001b[0m\u001b[1;33m\u001b[0m\u001b[0m\n\u001b[0m\u001b[0;32m    939\u001b[0m \u001b[1;33m\u001b[0m\u001b[0m\n\u001b[0;32m    940\u001b[0m         \u001b[1;31m# set static mode back to True in all systems in this Problem\u001b[0m\u001b[1;33m\u001b[0m\u001b[1;33m\u001b[0m\u001b[1;33m\u001b[0m\u001b[0m\n",
      "\u001b[1;32m~\\anaconda3\\lib\\site-packages\\openmdao\\core\\system.py\u001b[0m in \u001b[0;36m_setup\u001b[1;34m(self, comm, mode, prob_meta)\u001b[0m\n\u001b[0;32m    834\u001b[0m         \u001b[1;32mtry\u001b[0m\u001b[1;33m:\u001b[0m\u001b[1;33m\u001b[0m\u001b[1;33m\u001b[0m\u001b[0m\n\u001b[0;32m    835\u001b[0m             \u001b[1;31m# Recurse model from the bottom to the top for configuring.\u001b[0m\u001b[1;33m\u001b[0m\u001b[1;33m\u001b[0m\u001b[1;33m\u001b[0m\u001b[0m\n\u001b[1;32m--> 836\u001b[1;33m             \u001b[0mself\u001b[0m\u001b[1;33m.\u001b[0m\u001b[0m_configure\u001b[0m\u001b[1;33m(\u001b[0m\u001b[1;33m)\u001b[0m\u001b[1;33m\u001b[0m\u001b[1;33m\u001b[0m\u001b[0m\n\u001b[0m\u001b[0;32m    837\u001b[0m         \u001b[1;32mfinally\u001b[0m\u001b[1;33m:\u001b[0m\u001b[1;33m\u001b[0m\u001b[1;33m\u001b[0m\u001b[0m\n\u001b[0;32m    838\u001b[0m             \u001b[0mprob_meta\u001b[0m\u001b[1;33m[\u001b[0m\u001b[1;34m'config_info'\u001b[0m\u001b[1;33m]\u001b[0m \u001b[1;33m=\u001b[0m \u001b[1;32mNone\u001b[0m\u001b[1;33m\u001b[0m\u001b[1;33m\u001b[0m\u001b[0m\n",
      "\u001b[1;32m~\\anaconda3\\lib\\site-packages\\openmdao\\core\\group.py\u001b[0m in \u001b[0;36m_configure\u001b[1;34m(self)\u001b[0m\n\u001b[0;32m    504\u001b[0m         \u001b[1;32mfor\u001b[0m \u001b[0msubsys\u001b[0m \u001b[1;32min\u001b[0m \u001b[0mself\u001b[0m\u001b[1;33m.\u001b[0m\u001b[0m_subsystems_myproc\u001b[0m\u001b[1;33m:\u001b[0m\u001b[1;33m\u001b[0m\u001b[1;33m\u001b[0m\u001b[0m\n\u001b[0;32m    505\u001b[0m             \u001b[0msubsys\u001b[0m\u001b[1;33m.\u001b[0m\u001b[0m_configure\u001b[0m\u001b[1;33m(\u001b[0m\u001b[1;33m)\u001b[0m\u001b[1;33m\u001b[0m\u001b[1;33m\u001b[0m\u001b[0m\n\u001b[1;32m--> 506\u001b[1;33m             \u001b[0msubsys\u001b[0m\u001b[1;33m.\u001b[0m\u001b[0m_setup_var_data\u001b[0m\u001b[1;33m(\u001b[0m\u001b[1;33m)\u001b[0m\u001b[1;33m\u001b[0m\u001b[1;33m\u001b[0m\u001b[0m\n\u001b[0m\u001b[0;32m    507\u001b[0m \u001b[1;33m\u001b[0m\u001b[0m\n\u001b[0;32m    508\u001b[0m             \u001b[0mself\u001b[0m\u001b[1;33m.\u001b[0m\u001b[0m_has_guess\u001b[0m \u001b[1;33m|=\u001b[0m \u001b[0msubsys\u001b[0m\u001b[1;33m.\u001b[0m\u001b[0m_has_guess\u001b[0m\u001b[1;33m\u001b[0m\u001b[1;33m\u001b[0m\u001b[0m\n",
      "\u001b[1;32m~\\anaconda3\\lib\\site-packages\\openmdao\\core\\group.py\u001b[0m in \u001b[0;36m_setup_var_data\u001b[1;34m(self)\u001b[0m\n\u001b[0;32m   1090\u001b[0m             \u001b[0mself\u001b[0m\u001b[1;33m.\u001b[0m\u001b[0m_has_distrib_vars\u001b[0m \u001b[1;33m|=\u001b[0m \u001b[0msubsys\u001b[0m\u001b[1;33m.\u001b[0m\u001b[0m_has_distrib_vars\u001b[0m\u001b[1;33m\u001b[0m\u001b[1;33m\u001b[0m\u001b[0m\n\u001b[0;32m   1091\u001b[0m \u001b[1;33m\u001b[0m\u001b[0m\n\u001b[1;32m-> 1092\u001b[1;33m             \u001b[0mvar_maps\u001b[0m \u001b[1;33m=\u001b[0m \u001b[0msubsys\u001b[0m\u001b[1;33m.\u001b[0m\u001b[0m_get_promotion_maps\u001b[0m\u001b[1;33m(\u001b[0m\u001b[1;33m)\u001b[0m\u001b[1;33m\u001b[0m\u001b[1;33m\u001b[0m\u001b[0m\n\u001b[0m\u001b[0;32m   1093\u001b[0m             \u001b[0mpromotes_src_indices\u001b[0m \u001b[1;33m=\u001b[0m \u001b[1;33m{\u001b[0m\u001b[1;33m}\u001b[0m\u001b[1;33m\u001b[0m\u001b[1;33m\u001b[0m\u001b[0m\n\u001b[0;32m   1094\u001b[0m \u001b[1;33m\u001b[0m\u001b[0m\n",
      "\u001b[1;32m~\\anaconda3\\lib\\site-packages\\openmdao\\core\\system.py\u001b[0m in \u001b[0;36m_get_promotion_maps\u001b[1;34m(self)\u001b[0m\n\u001b[0;32m   1982\u001b[0m                                    \"'promotes_inputs' or 'promotes_outputs'.\" % self.msginfo)\n\u001b[0;32m   1983\u001b[0m             \u001b[0mresolve\u001b[0m\u001b[1;33m(\u001b[0m\u001b[0mself\u001b[0m\u001b[1;33m.\u001b[0m\u001b[0m_var_promotes\u001b[0m\u001b[1;33m[\u001b[0m\u001b[1;34m'input'\u001b[0m\u001b[1;33m]\u001b[0m\u001b[1;33m,\u001b[0m \u001b[1;33m(\u001b[0m\u001b[1;34m'input'\u001b[0m\u001b[1;33m,\u001b[0m\u001b[1;33m)\u001b[0m\u001b[1;33m,\u001b[0m \u001b[0mmaps\u001b[0m\u001b[1;33m,\u001b[0m \u001b[0mprom_names\u001b[0m\u001b[1;33m)\u001b[0m\u001b[1;33m\u001b[0m\u001b[1;33m\u001b[0m\u001b[0m\n\u001b[1;32m-> 1984\u001b[1;33m             \u001b[0mresolve\u001b[0m\u001b[1;33m(\u001b[0m\u001b[0mself\u001b[0m\u001b[1;33m.\u001b[0m\u001b[0m_var_promotes\u001b[0m\u001b[1;33m[\u001b[0m\u001b[1;34m'output'\u001b[0m\u001b[1;33m]\u001b[0m\u001b[1;33m,\u001b[0m \u001b[1;33m(\u001b[0m\u001b[1;34m'output'\u001b[0m\u001b[1;33m,\u001b[0m\u001b[1;33m)\u001b[0m\u001b[1;33m,\u001b[0m \u001b[0mmaps\u001b[0m\u001b[1;33m,\u001b[0m \u001b[0mprom_names\u001b[0m\u001b[1;33m)\u001b[0m\u001b[1;33m\u001b[0m\u001b[1;33m\u001b[0m\u001b[0m\n\u001b[0m\u001b[0;32m   1985\u001b[0m         \u001b[1;32melse\u001b[0m\u001b[1;33m:\u001b[0m\u001b[1;33m\u001b[0m\u001b[1;33m\u001b[0m\u001b[0m\n\u001b[0;32m   1986\u001b[0m             \u001b[0mresolve\u001b[0m\u001b[1;33m(\u001b[0m\u001b[0mself\u001b[0m\u001b[1;33m.\u001b[0m\u001b[0m_var_promotes\u001b[0m\u001b[1;33m[\u001b[0m\u001b[1;34m'any'\u001b[0m\u001b[1;33m]\u001b[0m\u001b[1;33m,\u001b[0m \u001b[1;33m(\u001b[0m\u001b[1;34m'input'\u001b[0m\u001b[1;33m,\u001b[0m \u001b[1;34m'output'\u001b[0m\u001b[1;33m)\u001b[0m\u001b[1;33m,\u001b[0m \u001b[0mmaps\u001b[0m\u001b[1;33m,\u001b[0m \u001b[0mprom_names\u001b[0m\u001b[1;33m)\u001b[0m\u001b[1;33m\u001b[0m\u001b[1;33m\u001b[0m\u001b[0m\n",
      "\u001b[1;32m~\\anaconda3\\lib\\site-packages\\openmdao\\core\\system.py\u001b[0m in \u001b[0;36mresolve\u001b[1;34m(to_match, io_types, matches, proms)\u001b[0m\n\u001b[0;32m   1972\u001b[0m \u001b[1;33m\u001b[0m\u001b[0m\n\u001b[0;32m   1973\u001b[0m                 \u001b[0mnot_found\u001b[0m \u001b[1;33m=\u001b[0m \u001b[0msorted\u001b[0m\u001b[1;33m(\u001b[0m\u001b[0mnot_found\u001b[0m\u001b[1;33m,\u001b[0m \u001b[0mkey\u001b[0m\u001b[1;33m=\u001b[0m\u001b[1;32mlambda\u001b[0m \u001b[0mx\u001b[0m\u001b[1;33m:\u001b[0m \u001b[0mx\u001b[0m \u001b[1;32mif\u001b[0m \u001b[0misinstance\u001b[0m\u001b[1;33m(\u001b[0m\u001b[0mx\u001b[0m\u001b[1;33m,\u001b[0m \u001b[0mstr\u001b[0m\u001b[1;33m)\u001b[0m \u001b[1;32melse\u001b[0m \u001b[0mx\u001b[0m\u001b[1;33m[\u001b[0m\u001b[1;36m0\u001b[0m\u001b[1;33m]\u001b[0m\u001b[1;33m)\u001b[0m\u001b[1;33m\u001b[0m\u001b[1;33m\u001b[0m\u001b[0m\n\u001b[1;32m-> 1974\u001b[1;33m                 raise RuntimeError(f\"{self.msginfo}: '{call}' failed to find any matches for the \"\n\u001b[0m\u001b[0;32m   1975\u001b[0m                                    f\"following names or patterns: {not_found}.{empty_group_msg}\")\n\u001b[0;32m   1976\u001b[0m \u001b[1;33m\u001b[0m\u001b[0m\n",
      "\u001b[1;31mRuntimeError\u001b[0m: 'cycle.Envi' <class Environment_comp>: 'promotes_outputs' failed to find any matches for the following names or patterns: ['Emissions_BC', 'Emissions_CO2', 'Emissions_H2O']."
     ]
=======
     "data": {
      "text/plain": [
       "<openmdao.core.problem.Problem at 0x1a7ceb750d0>"
      ]
     },
     "execution_count": 4,
     "metadata": {},
     "output_type": "execute_result"
>>>>>>> Stashed changes
    }
   ],
   "source": [
    "P_obj = om.Problem()\n",
    "P_obj.model=Launch_vehicle_Group.Launcher_vehicle()\n",
    "P_obj.setup()"
   ]
  },
  {
   "cell_type": "markdown",
   "metadata": {},
   "source": [
    "Visualize the N2 chart to visualize the connections between the disciplines"
   ]
  },
  {
   "cell_type": "code",
   "execution_count": null,
   "metadata": {},
<<<<<<< Updated upstream
   "outputs": [],
=======
   "outputs": [
    {
     "data": {
      "text/html": [
       "\n",
       "        <iframe\n",
       "            width=\"100%\"\n",
       "            height=\"700\"\n",
       "            src=\"n2.html\"\n",
       "            frameborder=\"0\"\n",
       "            allowfullscreen\n",
       "        ></iframe>\n",
       "        "
      ],
      "text/plain": [
       "<IPython.lib.display.IFrame at 0x1a7c92f1c40>"
      ]
     },
     "metadata": {},
     "output_type": "display_data"
    }
   ],
>>>>>>> Stashed changes
   "source": [
    "om.n2(P_obj,outfile='n2.html',show_browser=True)"
   ]
  },
  {
   "cell_type": "markdown",
   "metadata": {},
   "source": [
    "### Fixed Point Iteration (FPI)\n",
    "\n",
    "Enable the solving of interdisciplinary couplings between the 'trajectory' and the 'sizing and structure (struct_1)' disciplines. The feedback coupling \"Pdyn_max_dim\" is an input of the 'sizing and structure' discipline and \"max_pdyn_load_ascent_stage_1\" is an output of the trajectory discipline and these variables have to be equal to satisfy the interdisciplinary couplings. \n",
    "\n",
    "The variable \"Pdyn_max_dim\" is initialized to run the propulsion, the aerodynamics, the structure and then the trajectory disciplines and the output of the trajectory \"max_pdyn_load_ascent_stage_1\" is compared to the input of the structure \"Pdyn_max_dim\". If the difference is too large, the input of the structure \"Pdyn_max_dim\" is updated with the corresponding output of the trajectory discipline and a new evaluation of the disciplines is carried out.\n",
    "\n",
    "For the stage fallout: use variable 'is_fallout': if is_fallout=0: no simulation of stage 1 fallout else if is_fallout=1: simulation of stage 1 fallout (not running for the moment, see Project 2)"
   ]
  },
  {
   "cell_type": "code",
   "execution_count": null,
   "metadata": {},
   "outputs": [],
   "source": [
    "def FPI(tuple_input):\n",
    "#    x = tuple_input[0]\n",
    "#    lowerbnd_exp = tuple_input[1]\n",
    "#    upperbnd_exp = tuple_input[2]\n",
    "    Pb = tuple_input\n",
    "#    \n",
    "    Pb.setup(check = False)\n",
    "#    XX = lowerbnd_exp + (upperbnd_exp - lowerbnd_exp)*x\n",
    "    Pb['Diameter_stage_1'] = 5.0\n",
    "    Pb['Diameter_stage_2'] = 5.0\n",
    "    Pb['Mass_flow_rate_stage_1'] = 250.\n",
    "    Pb['Mass_flow_rate_stage_2'] = 250.\n",
    "    Pb['Thrust_stage_1'] = 1000.\n",
    "    Pb['Thrust_stage_2'] = 800.\n",
    "    Pb['OF_stage_1'] = 5.0\n",
    "    Pb['OF_stage_2'] = 5.0\n",
    "    Pb['Pc_stage_1'] = 100.0\n",
    "    Pb['Pc_stage_2'] = 100.0\n",
    "    Pb['Pe_stage_1'] = 1.0\n",
    "    Pb['Pe_stage_2'] = 1.0\n",
    "    Pb['N_eng_stage_1'] = 8.\n",
    "    Pb['N_eng_stage_2'] = 1.\n",
    "    Pb['Prop_mass_stage_1'] = 320000.\n",
    "    Pb['Prop_mass_stage_2'] = 75000.\n",
    "    Pb['thetacmd_i'] = 2.72\n",
    "    Pb['thetacmd_f'] = 10.\n",
    "    Pb['ksi'] = 0.293\n",
    "    Pb['Pitch_over_duration'] = 5.\n",
    "    Pb['Exit_nozzle_area_stage_1'] = 0.79\n",
    "    Pb['Exit_nozzle_area_stage_2'] = 3.6305\n",
    "    Pb['Delta_vertical_phase'] = 10.\n",
    "    Pb['Delta_theta_pitch_over'] = 1.        \n",
    "    Pb['command_stage_1_exo'] = np.array([30.,-20.])\n",
    "    Pb['is_fallout']=0. #0: no simulation of stage 1 fallout, 1: simulation of stage 1 fallout\n",
    "\n",
    "    error = 100.\n",
    "    Pb['Pdyn_max_dim'] = 40.\n",
    "    k=0\n",
    "    while error>1. and k<20:\n",
    "        Pb.run_model()\n",
    "        error = abs(Pb['Pdyn_max_dim']-Pb['max_pdyn_load_ascent_stage_1']/1e3)\n",
    "        Pb['Pdyn_max_dim'] = Pb['max_pdyn_load_ascent_stage_1']/1e3\n",
    "        k = k+1\n",
    "        print('Fixed Point Iteration: ',k ,', error: ', np.round(error[0],2), ', Input pdyn max (kPa): ', np.round(Pb['Pdyn_max_dim'][0],2))\n",
    "    return Pb"
   ]
  },
  {
   "cell_type": "code",
   "execution_count": null,
   "metadata": {},
   "outputs": [],
   "source": [
    "P_out = FPI(P_obj)\n",
    "GLOW, contraintes = post_traitement.post_traitement(P_out)"
   ]
  },
  {
   "cell_type": "markdown",
   "metadata": {},
   "source": [
    "## Plot outputs of trajectory simulation"
   ]
  },
  {
   "cell_type": "code",
   "execution_count": null,
   "metadata": {},
   "outputs": [],
   "source": [
    "result_vizualization.plots_output(P_out)"
   ]
  },
  {
   "cell_type": "markdown",
   "metadata": {},
   "source": [
    "### Output data from simulation"
   ]
  },
  {
   "cell_type": "code",
   "execution_count": null,
   "metadata": {},
   "outputs": [],
   "source": [
    "data = [[P_out['GLOW'][0]/1e3,\n",
    "         P_out['Dry_mass_stage_1'][0]/1e3,\n",
    "         P_out['Dry_mass_stage_2'][0]/1e3,\n",
    "        P_out['Prop_mass_stage_1'][0]/1e3,\n",
    "        P_out['Prop_mass_stage_2'][0]/1e3]]\n",
    "df = pd.DataFrame(data, columns=[\"GLOW (t)\", \"Dry_mass_stage_1  (t)\", \n",
    "                                     \"Dry_mass_stage_2  (t)\", \"Prop_mass_stage_1 (t)\", \n",
    "                                     \"Prop_mass_stage_2 (t)\"])\n",
    "df.round(3)"
   ]
  },
  {
   "cell_type": "markdown",
   "metadata": {},
   "source": [
    "## <font color='blue'> Optimization problem:</font>"
   ]
  },
  {
   "cell_type": "markdown",
   "metadata": {},
   "source": [
    "\\begin{eqnarray}\n",
    "\\text{min} & & \\text{GLOW}(\\mathbf{z}) \\\\\n",
    "\\text{w.r.t} & & \\mathbf{z}=[\\text{M}_{prop1},\\text{M}_{prop2},\\theta_i, \\theta_f, \\xi, \\Delta_t, \\Delta_\\theta, t_{vertical}, \\theta_{cmd} ] \\\\\n",
    "\\text{s.t.} & & \\alpha_{ascent}(\\mathbf{z}) \\leq 15 \\\\\n",
    " & & NX_{ascent}(\\mathbf{z}) \\leq 4.5 \\\\\n",
    " & & Pdyn_{ascent}(\\mathbf{z}) \\leq 40. \\\\\n",
    " & & HeatFlux_{ascent}(\\mathbf{z}) \\leq 100. \\\\\n",
    " & & \\text{Apogee}(\\mathbf{z}) = 700. \\\\\n",
    " & & \\text{Perigee}_{CoastPhase}(\\mathbf{z}) \\geq 140. \\\\\n",
    " & & M_{Circularization}(\\mathbf{z}) \\geq 0. \\\\\n",
    " &&\\mathbf{z}_\\text{min} \\leq \\mathbf{z} \\leq \\mathbf{z}_\\text{max}\n",
    "\\end{eqnarray}\n",
    "\n",
    "with:\n",
    "- GLOW: Gross-Lift-Off Weight\n",
    "- $\\mathbf{z} \\in \\mathbb{R}^{10}$, in practice the input variables are normalized into $[0. ,1.]^{10}$\n",
    "- $\\text{M}_{prop1}$: Prop_mass_stage_1\n",
    "- $\\text{M}_{prop2}$: Prop_mass_stage_2\n",
    "- $\\theta_i$: thetacmd_i, pitch angle begining of bilinear phase \n",
    "- $\\theta_f$: thetacmd_f, pitch angle end of bilinear phase \n",
    "- $\\xi$: ksi, shape parameter of bilinear phase \n",
    "- $\\Delta_t$: Pitch_over_duration\n",
    "- $\\Delta_\\theta$: Delta_theta_pitch_over\n",
    "- $t_{vertical}$: Delta_vertical_phase\n",
    "- $\\theta_{cmd}$: command_stage_1_exo (vector of dimension 2)\n",
    "\n",
    "The constraints are defined in the specification.py file:\n",
    "- $\\alpha_{ascent}$: angle of attack during the ascent phase that must be below 15 degrees\n",
    "- $NX_{ascent}$: axial load factor during the ascent phase that must be below 4.5g\n",
    "- $Pdyn_{ascent}$: dynamic pressure during the ascent phase that must be below 40kPa\n",
    "- $HeatFlux_{ascent}$: heat flux during the ascent phase that must be below 100 $W/m^2$\n",
    "- $\\text{Apogee}$: Apogee altitude of the coast phase transition orbit must be equal to 700km\n",
    "- $\\text{Perigee}_{CoastPhase}$: Perigee altitude of the coast phase transition orbit must be above 140km\n",
    "- $M_{Circularization}$: remaining propellant mass before the circularization burn must be sufficient to circularize the final orbit 700 x 700km "
   ]
  },
  {
   "cell_type": "markdown",
   "metadata": {},
   "source": [
    "### FPI for optimization"
   ]
  },
  {
   "cell_type": "code",
   "execution_count": null,
   "metadata": {},
   "outputs": [],
   "source": [
    "def FPI_optim(x,lowerbnd_exp,upperbnd_exp,Pb):\n",
    "\n",
    "    Pb.setup(check = False)\n",
    "    XX = lowerbnd_exp + (upperbnd_exp - lowerbnd_exp)*x\n",
    "    Pb['Diameter_stage_1'] = 5.0\n",
    "    Pb['Diameter_stage_2'] = 5.0\n",
    "    Pb['Mass_flow_rate_stage_1'] = 300.\n",
    "    Pb['Mass_flow_rate_stage_2'] = 200.\n",
    "    Pb['Thrust_stage_1'] = 1000.\n",
    "    Pb['Thrust_stage_2'] = 1000. # not used\n",
    "    Pb['OF_stage_1'] = 5.\n",
    "    Pb['OF_stage_2'] = 5.5\n",
    "    Pb['Pc_stage_1'] = 80.0\n",
    "    Pb['Pc_stage_2'] = 60.0\n",
    "    Pb['Pe_stage_1'] = 1.0\n",
    "    Pb['Pe_stage_2'] = 1.0\n",
    "    Pb['N_eng_stage_1'] = 6.\n",
    "    Pb['N_eng_stage_2'] = 1.\n",
    "    Pb['Prop_mass_stage_1'] = XX[0]*1e3\n",
    "    Pb['Prop_mass_stage_2'] = XX[1]*1e3\n",
    "    Pb['thetacmd_i'] = XX[2]\n",
    "    Pb['thetacmd_f'] = XX[3] \n",
    "    Pb['ksi'] = XX[4]\n",
    "    Pb['Pitch_over_duration'] = XX[5]\n",
    "    Pb['Exit_nozzle_area_stage_1'] = 0.79\n",
    "    Pb['Exit_nozzle_area_stage_2'] = 3.6305\n",
    "    Pb['Delta_vertical_phase'] = XX[6]\n",
    "    Pb['Delta_theta_pitch_over'] = XX[7]        \n",
    "    Pb['command_stage_1_exo'] = XX[8:10]\n",
    "    Pb['is_fallout']=0. #0: no simulation of stage 1 fallout, 1: simulation of stage 1 fallout\n",
    "\n",
    "    error = 100.\n",
    "    Pb['Pdyn_max_dim'] = 40.\n",
    "    k=0\n",
    "    while error>1. and k<20: # Solving of Fixed Point Iteration via Gauss-Seidel\n",
    "        Pb.run_model()\n",
    "        error = abs(Pb['Pdyn_max_dim']-Pb['max_pdyn_load_ascent_stage_1']/1e3)\n",
    "        Pb['Pdyn_max_dim'] = Pb['max_pdyn_load_ascent_stage_1']/1e3\n",
    "        k = k+1\n",
    "    return Pb"
   ]
  },
  {
   "cell_type": "markdown",
   "metadata": {},
   "source": [
    "### Definition of objective function\n",
    "Definition the objective function for evolutionary algorithm Covariance Matrix Adaptation (CMA-ES) more details on CMA-ES [here](http://cma.gforge.inria.fr/) and [here](https://en.wikipedia.org/wiki/CMA-ES). Penalization strategy is used to handle the different constraints in this example.\n",
    "If the constraints are not satisfied, the \"penalized objective function\" corresponds to the minimization of the constraint violation, and if the constraints are satisfied, $-(1e6 - GLOW)/1e5$ is minimized: \n",
    "when the constraints are not satisfied, the objective function takes as value the sum of non satisfied constraints."
   ]
  },
  {
   "cell_type": "code",
   "execution_count": null,
   "metadata": {},
   "outputs": [],
   "source": [
    "def Objective_function(x,lowerbnd_exp,upperbnd_exp,Pb,simu):\n",
    "    P_out = FPI_optim(x,lowerbnd_exp,upperbnd_exp,Pb)\n",
    "    GLOW, contraintes = post_traitement.post_traitement(P_out)\n",
    "    if simu==0: \n",
    "        if len(np.where(contraintes>1e-2)[0])==0:            \n",
    "            return -(1e6 - GLOW)/1e5\n",
    "        else:\n",
    "\n",
    "            cont = np.sum(contraintes[np.where(contraintes>0)[0]])\n",
    "            return cont\n",
    "    else :\n",
    "        if len(np.where(contraintes>1e-2)[0])==0:\n",
    "            return GLOW/1e5,-5 \n",
    "        else:\n",
    "            return GLOW/1e5,contraintes    "
   ]
  },
  {
   "cell_type": "markdown",
   "metadata": {},
   "source": [
    "### Definition of lower and upper bounds for the normalization during optimization"
   ]
  },
  {
   "cell_type": "code",
   "execution_count": null,
   "metadata": {},
   "outputs": [],
   "source": [
    "lowerbnd_exp = np.array([150.,#Prop_mass_stage_1\n",
    "                         20., #Prop_mass_stage_2\n",
    "                          0.,#theta_cmd_i\n",
    "                         -10.,#theta_cmd_f\n",
    "                         -1.,#ksi\n",
    "                         5., #Pitch_over_duration\n",
    "                         5., #Delta_vertical_phase\n",
    "                         1., #Delta_theta_pitch_over\n",
    "                         10.,10.]) #command_stage_1_exo\n",
    "\n",
    "upperbnd_exp = np.array([600.,#Prop_mass_stage_1\n",
    "                         200., #Prop_mass_stage_2\n",
    "                         50.,#theta_cmd_i\n",
    "                         20.,#theta_cmd_f\n",
    "                         1.,#ksi\n",
    "                         20., #Pitch_over_duration\n",
    "                         20., #Delta_vertical_phase\n",
    "                         10., #Delta_theta_pitch_over\n",
    "                         70.,70.]) #command_stage_1_exo"
   ]
  },
  {
   "cell_type": "markdown",
   "metadata": {},
   "source": [
    "### Definition of CMA-ES options and bounds"
   ]
  },
  {
   "cell_type": "code",
   "execution_count": null,
   "metadata": {},
   "outputs": [],
   "source": [
    "lower = np.zeros([1,len(lowerbnd_exp)])\n",
    "upper = np.ones([1,len(upperbnd_exp)])  \n",
    "options = cma.CMAOptions()\n",
    "bound_cma = np.array([lower[0],upper[0]])\n",
    "options = {'ftarget':-9e7,'tolfun':1e-5,'tolx':1e-6,'seed':2,\n",
    "           'bounds':[bound_cma[0],bound_cma[1]],'popsize':12,'maxiter':100,'verb_disp': 1}\n",
    "simu = 0\n",
    "init = np.ones(len(lowerbnd_exp))*0.5\n",
    "critere_cma = lambda x: Objective_function(x,lowerbnd_exp,upperbnd_exp,P_obj,simu)"
   ]
  },
  {
   "cell_type": "markdown",
   "metadata": {},
   "source": [
    "Parameters of CMA are regrouped into a dictionnary \"options\", of which the keys are the following: \n",
    "- ftarget: stopping value of objective function,\n",
    "- tolfun: tolerance value on objective functon,\n",
    "- tolx: tolerance value on design variable variations,\n",
    "- seed: seed of random generator of CMA-ES\n",
    "- bounds: (normalized) bounds on the design variables,\n",
    "- popsize: population size of CMA\n",
    "- maxiter: maximum number of iterations,\n",
    "- verdisp: display option"
   ]
  },
  {
   "cell_type": "markdown",
   "metadata": {},
   "source": [
    "### Running of CMA-ES\n",
    "Parameter $\\sigma$ is set at 0.2 in the following example, see CMA documentation"
   ]
  },
  {
   "cell_type": "code",
   "execution_count": null,
   "metadata": {},
<<<<<<< Updated upstream
   "outputs": [],
=======
   "outputs": [
    {
     "name": "stdout",
     "output_type": "stream",
     "text": [
      "(6_w,12)-aCMA-ES (mu_w=3.7,w_1=40%) in dimension 10 (seed=2, Mon Dec 27 11:48:34 2021)\n",
      "Iterat #Fevals   function value  axis ratio  sigma  min&max std  t[m:s]\n",
      "    1     12 7.010248471792526e+03 1.0e+00 1.89e-01  2e-01  2e-01 0:06.5\n"
     ]
    },
    {
     "name": "stderr",
     "output_type": "stream",
     "text": [
      "C:\\Users\\Torme\\anaconda3\\lib\\site-packages\\cma\\utilities\\utils.py:343: UserWarning: function_values is not a list of scalars,\n",
      "                        the first element equals [7123.13007214] with non-scalar type <class 'numpy.ndarray'>.\n",
      "                        Using now ``[v[0] for v in function_values]`` instead (further warnings are suppressed) ()\n",
      "  warnings.warn(msg + ' (' +\n"
     ]
    },
    {
     "name": "stdout",
     "output_type": "stream",
     "text": [
      "    2     24 2.259460687106531e+01 1.2e+00 1.83e-01  2e-01  2e-01 0:12.6\n"
     ]
    },
    {
     "name": "stderr",
     "output_type": "stream",
     "text": [
      "C:\\Users\\Torme\\anaconda3\\lib\\site-packages\\cma\\utilities\\utils.py:343: UserWarning: function_values is not a list of scalars,\n",
      "                        the first element equals [7375.91650899] with non-scalar type <class 'numpy.ndarray'>.\n",
      "                        Using now ``[v[0] for v in function_values]`` instead (further warnings are suppressed) ()\n",
      "  warnings.warn(msg + ' (' +\n"
     ]
    },
    {
     "name": "stdout",
     "output_type": "stream",
     "text": [
      "    3     36 2.525707662785704e+00 1.3e+00 1.81e-01  2e-01  2e-01 0:17.6\n",
      "    4     48 5.355543365947000e+01 1.3e+00 1.87e-01  2e-01  2e-01 0:26.2\n",
      "    5     60 2.092794557538783e+01 1.4e+00 1.80e-01  2e-01  2e-01 0:34.9\n",
      "    6     72 1.202730774101129e+01 1.4e+00 1.66e-01  2e-01  2e-01 0:46.1\n",
      "    7     84 1.217881898399542e+01 1.4e+00 1.56e-01  1e-01  2e-01 0:57.4\n",
      "    8     96 3.698807430545501e+01 1.4e+00 1.62e-01  1e-01  2e-01 1:05.3\n",
      "    9    108 3.398728434354031e+00 1.5e+00 1.75e-01  2e-01  2e-01 1:13.1\n",
      "   10    120 1.343228120135006e+01 1.6e+00 1.78e-01  2e-01  2e-01 1:24.7\n",
      "Iterat #Fevals   function value  axis ratio  sigma  min&max std  t[m:s]\n",
      "   11    132 1.724294023466512e+01 1.7e+00 1.77e-01  2e-01  2e-01 1:37.9\n",
      "   12    144 1.968262401764779e+01 1.7e+00 1.77e-01  1e-01  2e-01 1:46.7\n",
      "   13    156 7.260090927804177e+00 1.7e+00 1.60e-01  1e-01  2e-01 1:57.2\n",
      "   14    168 7.639372618469717e+00 1.8e+00 1.58e-01  1e-01  2e-01 2:06.4\n",
      "   15    180 1.452733774232276e+01 1.9e+00 1.58e-01  1e-01  2e-01 2:15.2\n",
      "   16    192 1.150147435071177e+01 1.9e+00 1.44e-01  1e-01  2e-01 2:25.5\n",
      "   17    204 2.013053256968284e+01 1.9e+00 1.36e-01  1e-01  2e-01 2:35.5\n",
      "   18    216 8.230283600857431e+00 1.9e+00 1.24e-01  9e-02  1e-01 2:46.0\n",
      "   19    228 8.147486064000924e-01 2.0e+00 1.18e-01  8e-02  1e-01 2:55.2\n",
      "   20    240 3.439863423079508e+00 2.1e+00 1.10e-01  7e-02  1e-01 3:09.0\n",
      "Iterat #Fevals   function value  axis ratio  sigma  min&max std  t[m:s]\n",
      "   21    252 1.840179022459839e+00 2.2e+00 1.05e-01  7e-02  1e-01 3:25.9\n",
      "   22    264 1.793522340035228e+00 2.1e+00 9.78e-02  6e-02  1e-01 3:47.5\n",
      "   23    276 1.739988485133372e+01 2.1e+00 9.12e-02  6e-02  1e-01 4:08.4\n",
      "   24    288 2.627679798336390e+00 2.1e+00 8.78e-02  5e-02  9e-02 4:28.9\n",
      "   25    300 2.620047412742535e+00 2.2e+00 7.79e-02  5e-02  8e-02 4:43.0\n",
      "   26    312 8.514260813153504e-01 2.2e+00 7.82e-02  5e-02  8e-02 5:00.4\n",
      "   27    324 6.185412728344182e-01 2.3e+00 7.78e-02  4e-02  8e-02 5:16.4\n",
      "   28    336 6.240599111371448e-01 2.4e+00 8.00e-02  4e-02  8e-02 5:32.6\n",
      "   29    348 6.428602897464182e-01 2.4e+00 8.03e-02  4e-02  8e-02 5:51.6\n",
      "   30    360 6.070234434381445e-01 2.5e+00 7.74e-02  4e-02  8e-02 6:10.5\n",
      "Iterat #Fevals   function value  axis ratio  sigma  min&max std  t[m:s]\n",
      "   31    372 6.522842174999978e-01 2.6e+00 7.30e-02  4e-02  7e-02 6:27.4\n",
      "   32    384 6.441355303624473e-01 2.7e+00 6.84e-02  4e-02  7e-02 6:49.4\n",
      "   33    396 6.210502382408258e-01 2.7e+00 6.85e-02  3e-02  7e-02 7:21.8\n",
      "   34    408 5.780797780448066e-01 2.7e+00 7.91e-02  4e-02  8e-02 7:41.2\n",
      "   35    420 5.541670038925111e-01 3.2e+00 8.56e-02  4e-02  9e-02 7:57.8\n",
      "   36    432 5.794669213597029e-01 3.5e+00 7.94e-02  4e-02  8e-02 8:14.5\n",
      "   37    444 5.737873485275535e-01 3.6e+00 6.74e-02  3e-02  7e-02 8:34.0\n",
      "   38    456 5.597535304895110e-01 3.5e+00 6.56e-02  3e-02  7e-02 8:55.2\n",
      "   39    468 5.827262447015935e-01 3.6e+00 6.53e-02  3e-02  7e-02 9:14.5\n",
      "   40    480 5.600597202524086e-01 3.6e+00 5.85e-02  3e-02  6e-02 9:28.1\n",
      "Iterat #Fevals   function value  axis ratio  sigma  min&max std  t[m:s]\n",
      "   41    492 5.582468019288629e-01 3.6e+00 5.39e-02  2e-02  5e-02 9:42.9\n",
      "   42    504 6.219898254503948e-01 3.6e+00 5.08e-02  2e-02  5e-02 9:57.6\n",
      "   43    516 5.998676623587597e-01 3.8e+00 4.60e-02  2e-02  5e-02 10:13.6\n",
      "   44    528 5.551777960698602e-01 3.8e+00 4.99e-02  2e-02  5e-02 10:30.5\n",
      "   45    540 5.358710638731511e-01 3.8e+00 4.94e-02  2e-02  5e-02 10:46.1\n",
      "   46    552 5.474716295661471e-01 4.0e+00 4.94e-02  2e-02  5e-02 11:02.0\n",
      "   47    564 5.374378082492445e-01 4.0e+00 4.77e-02  2e-02  5e-02 11:18.3\n",
      "   48    576 5.347401035023872e-01 4.2e+00 4.44e-02  2e-02  5e-02 11:34.0\n",
      "   49    588 5.322541607307624e-01 4.5e+00 3.89e-02  2e-02  4e-02 11:48.7\n",
      "   50    600 5.372984162074236e-01 4.8e+00 3.80e-02  2e-02  4e-02 12:03.4\n",
      "Iterat #Fevals   function value  axis ratio  sigma  min&max std  t[m:s]\n",
      "   51    612 5.548565470647493e-01 4.7e+00 3.66e-02  2e-02  4e-02 12:13.7\n",
      "   52    624 5.520969618490568e-01 4.8e+00 3.90e-02  2e-02  4e-02 12:21.0\n",
      "   53    636 5.449797192205694e-01 4.8e+00 3.87e-02  2e-02  4e-02 12:25.5\n",
      "   54    648 5.377520429084184e-01 4.9e+00 3.69e-02  2e-02  4e-02 12:32.0\n",
      "   55    660 5.352778025741909e-01 4.9e+00 3.52e-02  2e-02  4e-02 12:38.4\n",
      "   56    672 5.386743928360355e-01 5.2e+00 3.10e-02  1e-02  3e-02 12:44.1\n",
      "   57    684 5.295534788366077e-01 5.2e+00 3.07e-02  1e-02  3e-02 12:49.3\n",
      "   58    696 5.440907222700262e-01 5.3e+00 3.09e-02  1e-02  3e-02 12:54.7\n",
      "   59    708 5.382239953874679e-01 5.5e+00 2.85e-02  1e-02  3e-02 12:59.8\n",
      "   60    720 5.346114234507255e-01 5.8e+00 2.85e-02  1e-02  3e-02 13:04.5\n",
      "Iterat #Fevals   function value  axis ratio  sigma  min&max std  t[m:s]\n",
      "   61    732 5.318632797660866e-01 5.8e+00 2.73e-02  1e-02  3e-02 13:08.8\n",
      "   62    744 5.322376661077022e-01 6.0e+00 2.77e-02  1e-02  3e-02 13:13.0\n",
      "   63    756 5.364244425644551e-01 6.3e+00 2.70e-02  1e-02  3e-02 13:17.3\n",
      "   64    768 5.402158790867773e-01 6.5e+00 2.66e-02  1e-02  3e-02 13:21.6\n",
      "   65    780 5.379964478158532e-01 6.5e+00 2.48e-02  9e-03  3e-02 13:26.7\n",
      "   66    792 5.317304709950499e-01 6.6e+00 2.31e-02  8e-03  3e-02 13:31.0\n",
      "   67    804 5.299549252521453e-01 6.6e+00 2.18e-02  8e-03  2e-02 13:35.5\n",
      "   68    816 5.393437841702897e-01 6.7e+00 2.24e-02  8e-03  3e-02 13:40.3\n",
      "   69    828 5.356030219011773e-01 6.9e+00 2.26e-02  7e-03  3e-02 13:44.8\n",
      "   70    840 5.308754975447060e-01 7.1e+00 2.25e-02  7e-03  3e-02 13:48.8\n",
      "Iterat #Fevals   function value  axis ratio  sigma  min&max std  t[m:s]\n",
      "   71    852 5.384313884660450e-01 7.2e+00 2.11e-02  7e-03  2e-02 13:52.8\n",
      "   72    864 5.323737677417760e-01 7.4e+00 1.98e-02  6e-03  2e-02 13:56.9\n",
      "   73    876 5.303160651380450e-01 7.4e+00 1.75e-02  5e-03  2e-02 14:01.0\n",
      "   74    888 5.297591810203816e-01 7.3e+00 1.73e-02  5e-03  2e-02 14:05.0\n",
      "   75    900 5.315523730260114e-01 7.7e+00 1.64e-02  5e-03  2e-02 14:09.1\n",
      "   76    912 5.289898008717343e-01 7.9e+00 1.80e-02  5e-03  2e-02 14:13.2\n",
      "   77    924 5.291852175731536e-01 8.4e+00 1.81e-02  5e-03  2e-02 14:17.6\n",
      "   78    936 5.257091137089049e-01 8.4e+00 1.62e-02  4e-03  2e-02 14:21.8\n",
      "   79    948 5.265294661780139e-01 8.8e+00 1.57e-02  4e-03  2e-02 14:25.9\n",
      "   80    960 5.244955935812012e-01 9.1e+00 1.53e-02  4e-03  2e-02 14:30.1\n",
      "Iterat #Fevals   function value  axis ratio  sigma  min&max std  t[m:s]\n",
      "   81    972 5.251359856594019e-01 9.3e+00 1.49e-02  4e-03  2e-02 14:34.3\n",
      "   82    984 5.259667671035783e-01 9.6e+00 1.53e-02  4e-03  2e-02 14:38.2\n",
      "   83    996 5.259513810150852e-01 1.0e+01 1.47e-02  4e-03  2e-02 14:42.8\n",
      "   84   1008 5.243248612742555e-01 1.0e+01 1.34e-02  3e-03  2e-02 14:46.9\n",
      "   85   1020 5.243464123337163e-01 1.1e+01 1.36e-02  3e-03  2e-02 14:51.1\n",
      "   86   1032 5.229148436153792e-01 1.1e+01 1.41e-02  3e-03  2e-02 14:55.1\n",
      "   87   1044 5.222957862532017e-01 1.1e+01 1.63e-02  4e-03  2e-02 14:59.1\n",
      "   88   1056 5.236878875269260e-01 1.2e+01 1.79e-02  4e-03  2e-02 15:03.3\n",
      "   89   1068 5.219677728799932e-01 1.3e+01 1.76e-02  4e-03  2e-02 15:07.4\n",
      "   90   1080 5.190423239858217e-01 1.4e+01 1.74e-02  4e-03  2e-02 15:11.4\n",
      "Iterat #Fevals   function value  axis ratio  sigma  min&max std  t[m:s]\n",
      "   91   1092 5.260231255138453e-01 1.4e+01 1.74e-02  4e-03  2e-02 15:15.6\n",
      "   92   1104 5.202609643745664e-01 1.4e+01 2.00e-02  5e-03  3e-02 15:19.7\n",
      "   93   1116 5.170782052533041e-01 1.5e+01 2.02e-02  5e-03  3e-02 15:23.8\n",
      "   94   1128 5.155607357118176e-01 1.5e+01 2.09e-02  5e-03  3e-02 15:27.9\n",
      "   95   1140 5.149383155891500e-01 1.6e+01 2.25e-02  5e-03  3e-02 15:32.1\n",
      "   96   1152 5.181047737601623e-01 1.7e+01 2.15e-02  5e-03  3e-02 15:36.2\n",
      "   97   1164 5.156276698073464e-01 1.8e+01 1.98e-02  5e-03  3e-02 15:40.3\n",
      "   98   1176 5.146006550995769e-01 1.9e+01 1.96e-02  5e-03  3e-02 15:44.7\n",
      "   99   1188 5.139990020614905e-01 2.0e+01 1.81e-02  5e-03  3e-02 15:49.4\n",
      "  100   1200 5.161672051733138e-01 2.0e+01 1.63e-02  4e-03  2e-02 15:53.5\n",
      "termination on maxiter=100 (Mon Dec 27 12:04:29 2021)\n",
      "final/bestever f-value = 5.161720e-01 5.139990e-01\n",
      "incumbent solution: [0.19220971 0.43127776 0.64170115 0.47944672 0.24265081 0.81244156\n",
      " 0.86741207 0.70393741 ...]\n",
      "std deviations: [0.00413146 0.00734041 0.01490063 0.00996008 0.01544524 0.01459886\n",
      " 0.01625584 0.01578769 ...]\n"
     ]
    }
   ],
>>>>>>> Stashed changes
   "source": [
    "res = cma.fmin(critere_cma,init,.2,options)"
   ]
  },
  {
   "cell_type": "markdown",
   "metadata": {},
   "source": [
    "### Results of optimization\n",
    "#### Optimal value of the design variables, of the objective function and penalized constraints and of the GLOW\n",
    "Be careful that the optimal value of the design variables do not reach the bounds defined in lowerbnd_exp and upperbnd_exp especially for the propellant masses. If it is the case, modify the bounds and rerun the optimization."
   ]
  },
  {
   "cell_type": "code",
   "execution_count": null,
   "metadata": {
    "scrolled": true
   },
<<<<<<< Updated upstream
   "outputs": [],
=======
   "outputs": [
    {
     "name": "stdout",
     "output_type": "stream",
     "text": [
      ">> Optimal design variable values [0.19081199 0.43085972 0.62497672 0.46725694 0.26845488 0.80740812\n",
      " 0.85728399 0.70902381 0.65012908 0.58690086]\n",
      ">> Objective, Penalized Constraint (3.7395556434971606, array([-2.141457640349657, -0.0010370059421944688, -0.9999999999953434,\n",
      "       -1.675636274807984, -6.659170169834734, -0.006852249302120583,\n",
      "       -0.08090909756386787, array([0.513999])], dtype=object))\n",
      ">> Optimal GLOW (t) [373.95556435]\n"
     ]
    }
   ],
>>>>>>> Stashed changes
   "source": [
    "print('>> Optimal design variable values',res[0])\n",
    "print('>> Objective, Penalized Constraint',Objective_function(res[0],lowerbnd_exp,upperbnd_exp,P_obj,1))\n",
    "print('>> Optimal GLOW (t)', P_obj['GLOW']/1e3)"
   ]
  },
  {
   "cell_type": "markdown",
   "metadata": {},
   "source": [
    "### Plots of the results of optimization"
   ]
  },
  {
   "cell_type": "code",
   "execution_count": null,
   "metadata": {},
<<<<<<< Updated upstream
   "outputs": [],
=======
   "outputs": [
    {
     "data": {
      "image/png": "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\n",
      "text/plain": [
       "<Figure size 1080x1080 with 8 Axes>"
      ]
     },
     "metadata": {
      "needs_background": "light"
     },
     "output_type": "display_data"
    }
   ],
>>>>>>> Stashed changes
   "source": [
    "P_out = FPI_optim(res[0],lowerbnd_exp,upperbnd_exp,P_obj)\n",
    "result_vizualization.plots_output(P_out)"
   ]
  },
  {
   "cell_type": "code",
   "execution_count": null,
   "metadata": {},
<<<<<<< Updated upstream
   "outputs": [],
=======
   "outputs": [
    {
     "data": {
      "text/html": [
       "<div>\n",
       "<style scoped>\n",
       "    .dataframe tbody tr th:only-of-type {\n",
       "        vertical-align: middle;\n",
       "    }\n",
       "\n",
       "    .dataframe tbody tr th {\n",
       "        vertical-align: top;\n",
       "    }\n",
       "\n",
       "    .dataframe thead th {\n",
       "        text-align: right;\n",
       "    }\n",
       "</style>\n",
       "<table border=\"1\" class=\"dataframe\">\n",
       "  <thead>\n",
       "    <tr style=\"text-align: right;\">\n",
       "      <th></th>\n",
       "      <th>GLOW (t)</th>\n",
       "      <th>Dry_mass_stage_1  (t)</th>\n",
       "      <th>Dry_mass_stage_2  (t)</th>\n",
       "      <th>Prop_mass_stage_1 (t)</th>\n",
       "      <th>Prop_mass_stage_2 (t)</th>\n",
       "    </tr>\n",
       "  </thead>\n",
       "  <tbody>\n",
       "    <tr>\n",
       "      <th>0</th>\n",
       "      <td>373.956</td>\n",
       "      <td>25.634</td>\n",
       "      <td>7.902</td>\n",
       "      <td>235.865</td>\n",
       "      <td>97.555</td>\n",
       "    </tr>\n",
       "  </tbody>\n",
       "</table>\n",
       "</div>"
      ],
      "text/plain": [
       "   GLOW (t)  Dry_mass_stage_1  (t)  Dry_mass_stage_2  (t)  \\\n",
       "0   373.956                 25.634                  7.902   \n",
       "\n",
       "   Prop_mass_stage_1 (t)  Prop_mass_stage_2 (t)  \n",
       "0                235.865                 97.555  "
      ]
     },
     "execution_count": 17,
     "metadata": {},
     "output_type": "execute_result"
    }
   ],
>>>>>>> Stashed changes
   "source": [
    "data = [[P_out['GLOW'][0]/1e3,\n",
    "         P_out['Dry_mass_stage_1'][0]/1e3,\n",
    "         P_out['Dry_mass_stage_2'][0]/1e3,\n",
    "        P_out['Prop_mass_stage_1'][0]/1e3,\n",
    "        P_out['Prop_mass_stage_2'][0]/1e3]]\n",
    "df = pd.DataFrame(data, columns=[\"GLOW (t)\", \"Dry_mass_stage_1  (t)\", \n",
    "                                     \"Dry_mass_stage_2  (t)\", \"Prop_mass_stage_1 (t)\", \n",
    "                                     \"Prop_mass_stage_2 (t)\"])\n",
    "df.round(3)"
   ]
  },
  {
   "cell_type": "code",
<<<<<<< Updated upstream
   "execution_count": null,
   "metadata": {
    "scrolled": true
   },
   "outputs": [],
=======
   "execution_count": 18,
   "metadata": {
    "scrolled": true
   },
   "outputs": [
    {
     "name": "stdout",
     "output_type": "stream",
     "text": [
      "Radiative Forcing: 0.010139990020614905 mW/m^2\n",
      "Emissions:\n",
      "- CO2: 0.0 kg\n",
      "- H2O: 485.4250541783732 kg\n",
      "- Soot: 0.0 kg\n"
     ]
    }
   ],
>>>>>>> Stashed changes
   "source": [
    "print('Radiative Forcing:',P_out['Radiative_Forcing'][0],'mW/m^2')\n",
    "print('Emissions:')\n",
    "print('- CO2:',P_out['Emissions_CO2'][0]/1e3,'kg')\n",
    "print('- H2O:',P_out['Emissions_H2O'][0]/1e3,'kg')\n",
    "print('- Soot:',P_out['Emissions_BC'][0]/1e3,'kg')"
   ]
  },
  {
   "cell_type": "code",
   "execution_count": 19,
   "metadata": {},
<<<<<<< Updated upstream
   "outputs": [],
   "source": [
    "print(contraintes)"
=======
   "outputs": [
    {
     "name": "stdout",
     "output_type": "stream",
     "text": [
      "[5.]\n"
     ]
    }
   ],
   "source": [
    "print(P_out['OF_stage_1'])"
>>>>>>> Stashed changes
   ]
  }
 ],
 "metadata": {
  "kernelspec": {
   "display_name": "Python 3",
   "language": "python",
   "name": "python3"
  },
  "language_info": {
   "codemirror_mode": {
    "name": "ipython",
    "version": 3
   },
   "file_extension": ".py",
   "mimetype": "text/x-python",
   "name": "python",
   "nbconvert_exporter": "python",
   "pygments_lexer": "ipython3",
   "version": "3.8.3"
  }
 },
 "nbformat": 4,
 "nbformat_minor": 2
}
